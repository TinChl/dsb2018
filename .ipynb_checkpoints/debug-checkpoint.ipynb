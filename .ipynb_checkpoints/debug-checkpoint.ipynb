{
 "cells": [
  {
   "cell_type": "code",
   "execution_count": 1,
   "metadata": {},
   "outputs": [],
   "source": [
    "import numpy as np\n",
    "import os\n",
    "\n",
    "from osgeo import gdal\n",
    "import matplotlib.pyplot as plt\n",
    "import pandas as pd\n",
    "from utils2 import *\n",
    "import matplotlib.patches as patches\n",
    "%matplotlib inline \n",
    "%load_ext autoreload\n",
    "%autoreload 2\n",
    "\n",
    "import argparse\n",
    "import logging\n",
    "import os\n",
    "import time\n",
    "import numpy as np\n",
    "import data\n",
    "from importlib import import_module\n",
    "import shutil\n",
    "from utils import *\n",
    "import sys\n",
    "sys.path.append('../')\n",
    "from split_combine import SplitComb\n",
    "\n",
    "import torch\n",
    "from torch.nn import DataParallel\n",
    "from torch.backends import cudnn\n",
    "from torch.utils.data import DataLoader\n",
    "from torch import optim\n",
    "from torch.autograd import Variable\n",
    "from config_training import config as config_training\n",
    "\n",
    "from layers import acc, nms"
   ]
  },
  {
   "cell_type": "code",
   "execution_count": 2,
   "metadata": {},
   "outputs": [
    {
     "name": "stdout",
     "output_type": "stream",
     "text": [
      "total number of examples  25467\n"
     ]
    }
   ],
   "source": [
    "model = import_module('res18')\n",
    "config, net, loss, get_pbb = model.get_model()\n",
    "\n",
    "dataset = data.DataBowl3Detector(\n",
    "    config_training['preprocess_result_path'],\n",
    "    '/home/htang6/workspace/dsb2018/filenames_train.csv',\n",
    "    config,\n",
    "    phase = 'train')"
   ]
  },
  {
   "cell_type": "code",
   "execution_count": 10,
   "metadata": {
    "collapsed": true
   },
   "outputs": [],
   "source": [
    "data, target, coord = dataset[11]"
   ]
  },
  {
   "cell_type": "code",
   "execution_count": 11,
   "metadata": {
    "collapsed": true
   },
   "outputs": [],
   "source": [
    "data = data.numpy()\n",
    "target = target.numpy()"
   ]
  },
  {
   "cell_type": "code",
   "execution_count": 12,
   "metadata": {},
   "outputs": [
    {
     "name": "stdout",
     "output_type": "stream",
     "text": [
      "[array([ 15,  35,  51,  91, 103, 119]), array([31, 11, 87, 59,  3, 31])]\n"
     ]
    },
    {
     "data": {
      "text/plain": [
       "<matplotlib.image.AxesImage at 0x7f9d99ac7a50>"
      ]
     },
     "execution_count": 12,
     "metadata": {},
     "output_type": "execute_result"
    },
    {
     "data": {
      "image/png": "[encoded data removed]",
      "text/plain": [
       "<matplotlib.figure.Figure at 0x7f9e2016ca50>"
      ]
     },
     "metadata": {},
     "output_type": "display_data"
    }
   ],
   "source": [
    "yy, xx, a = np.where(target[:,:,:,0]==1)\n",
    "plt.rcParams['figure.figsize'] = (8.0, 8.0)\n",
    "\n",
    "yy = yy * 4 - 5  \n",
    "xx = xx * 4 - 5\n",
    "print [yy, xx]\n",
    "\n",
    "fig,ax = plt.subplots(1,1)\n",
    "for i in xrange(len(yy)):\n",
    "    yx_nod_rect = patches.Rectangle((xx[i],yy[i]),10,10,\n",
    "                         linewidth=1,edgecolor='springgreen',facecolor='none')\n",
    "    ax.add_patch(yx_nod_rect)\n",
    "ax.imshow(np.moveaxis(data, 0, -1) * 128 + 128, cmap='gray')"
   ]
  },
  {
   "cell_type": "code",
   "execution_count": 51,
   "metadata": {
    "collapsed": true
   },
   "outputs": [],
   "source": [
    "yy, xx, aa = np.where(target[:,:,:,0]==-1)"
   ]
  },
  {
   "cell_type": "code",
   "execution_count": null,
   "metadata": {
    "collapsed": true
   },
   "outputs": [],
   "source": []
  }
 ],
 "metadata": {
  "kernelspec": {
   "display_name": "Python 2",
   "language": "python",
   "name": "python2"
  },
  "language_info": {
   "codemirror_mode": {
    "name": "ipython",
    "version": 2
   },
   "file_extension": ".py",
   "mimetype": "text/x-python",
   "name": "python",
   "nbconvert_exporter": "python",
   "pygments_lexer": "ipython2",
   "version": "2.7.14"
  }
 },
 "nbformat": 4,
 "nbformat_minor": 2
}
